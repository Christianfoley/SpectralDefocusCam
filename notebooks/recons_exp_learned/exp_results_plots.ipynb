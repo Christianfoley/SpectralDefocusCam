{
 "cells": [
  {
   "cell_type": "code",
   "execution_count": 2,
   "metadata": {},
   "outputs": [],
   "source": [
    "import torch\n",
    "import numpy as np\n",
    "import cv2\n",
    "import os, sys, glob, copy, json\n",
    "from scipy.interpolate import interp1d\n",
    "from scipy.signal import convolve\n",
    "import seaborn as sns\n",
    "\n",
    "from matplotlib.ticker import FuncFormatter\n",
    "import matplotlib.pyplot as plt\n",
    "import PIL.Image as Image\n",
    "import pathlib\n",
    "sys.path.append(\"/home/cfoley_waller/defocam/SpectralDefocusCam\")\n",
    "os.environ[\"CUDA_DEVICE_ORDER\"] = \"PCI_BUS_ID\"\n",
    "\n",
    "\n",
    "sys.path.insert(0, \"../..\")\n",
    "import utils.helper_functions as helper\n",
    "import utils.diffuser_utils as diffuser_utils\n",
    "import dataset.precomp_dataset as ds\n",
    "from models.get_model import get_model\n",
    "\n",
    "%load_ext autoreload\n",
    "%autoreload 2"
   ]
  },
  {
   "cell_type": "markdown",
   "metadata": {},
   "source": [
    "# Plot resolution comparison"
   ]
  },
  {
   "cell_type": "code",
   "execution_count": null,
   "metadata": {},
   "outputs": [],
   "source": [
    "res_target_fista = np.load(\"/home/cfoley/defocuscamdata/recons/exp_results_figure/usaf_negative_fista_.npy\")\n",
    "res_target_learned = np.load(\"/home/cfoley/defocuscamdata/recons/exp_results_figure/saved_model_ep60_testloss_0.053416458687380604_usaf_negative.npy\")\n",
    "helper.plot_cube_interactive(res_target_learned)"
   ]
  },
  {
   "cell_type": "code",
   "execution_count": null,
   "metadata": {},
   "outputs": [],
   "source": [
    "sns.set_style(\"whitegrid\")\n",
    "sns.set_context(\"notebook\", font_scale=1.2)\n",
    "colors = sns.husl_palette(n_colors=10, l=0.5)\n",
    "\n",
    "vec_fista = helper.value_norm(np.mean(res_target_fista, axis=-1)[177:177+25, 242])\n",
    "vec_learned = helper.value_norm(np.mean(res_target_learned, axis=-1)[177:177+25, 242])\n",
    "\n",
    "plt.figure(dpi=100, figsize=(17,7))\n",
    "plt.plot(vec_fista, color=colors[0], label = \"FISTA (5)\", linewidth = 12)\n",
    "plt.plot(vec_learned, color=colors[7], label = \"Learned (2)\", linewidth = 12)\n",
    "plt.xticks(fontsize=20)\n",
    "plt.yticks(fontsize=20)\n",
    "plt.gca().spines[\"top\"].set_visible(False)\n",
    "plt.gca().spines[\"right\"].set_visible(False)\n",
    "plt.gca().spines[\"left\"].set_linewidth(4)\n",
    "plt.gca().spines[\"bottom\"].set_linewidth(4)\n",
    "plt.gca().spines[\"left\"].set_color(\"black\")\n",
    "plt.gca().spines[\"bottom\"].set_color(\"black\")\n",
    "plt.legend(fontsize=20, loc=(0.5,0.1), framealpha=1)"
   ]
  },
  {
   "cell_type": "markdown",
   "metadata": {},
   "source": [
    "# Plot Spectral Comparison"
   ]
  },
  {
   "cell_type": "code",
   "execution_count": 3,
   "metadata": {},
   "outputs": [],
   "source": [
    "def read_gt_csv(file):\n",
    "    with open(file, 'r') as f:\n",
    "        lines = f.readlines()\n",
    "        waves, intensity = [],[]\n",
    "        for line in lines:\n",
    "            if line[0] == \"[\" or line[0] == \"#\":\n",
    "                continue\n",
    "            wave, intens = line.split(\";\")\n",
    "            waves.append(float(wave))\n",
    "            intensity.append(float(intens))\n",
    "    return np.array(waves), np.array(intensity)\n",
    "\n",
    "def read_gt_rmn(file, max_wave=935.358):\n",
    "    with open(file, 'r') as f:\n",
    "        data = json.load(f)[0]\n",
    "    min_wave = data['FirstWavenumber']\n",
    "    intensities = data['Intensities']\n",
    "    waves = np.linspace(min_wave, max_wave, len(intensities))\n",
    "\n",
    "    return waves, np.array(intensities)\n",
    "\n",
    "def mov_avg_intensities(intensities, old_waves, new_waves, index_width):\n",
    "    \"\"\"\n",
    "    Given a set of intensities at wavelengths \"oldwaves\", resamples these intensities\n",
    "    at the points \"newwaves\", taking the average of the nearest \"numavg\" wavelength intensities\n",
    "    around the new wavelength sample.\n",
    "    \"\"\"\n",
    "    # Apply moving average filtering to the original intensities\n",
    "    filter_weights = np.ones(index_width) / index_width\n",
    "    smoothed_intensities = convolve(intensities, filter_weights, mode='same')\n",
    "    \n",
    "    # Interpolate intensities at new wavelengths\n",
    "    f = interp1d(old_waves, smoothed_intensities, kind='linear', fill_value=\"extrapolate\")\n",
    "    new_intensities = f(new_waves)\n",
    "\n",
    "    return new_intensities\n",
    "\n",
    "\n",
    "def combine_thor_ocean_waves(\n",
    "    thorfile, \n",
    "    oceanfile = None, \n",
    "    minwave=390, \n",
    "    maxwave=870, \n",
    "    channels=30, \n",
    "    thor_smooth_idx=400, \n",
    "    ocean_smooth_idx=100, \n",
    "    combine_thor_ocean = True\n",
    "):\n",
    "    \"\"\"\n",
    "    Combined function for stitching together ground truth spectra from different calibrations\n",
    "    \"\"\"\n",
    "    min_ocean_wave = 500\n",
    "    new_waves = np.linspace(minwave, maxwave, channels)\n",
    "\n",
    "    # resample measurements into desired range\n",
    "    (thorwaves, thorintens), = read_gt_csv(thorfile),  \n",
    "    thorintens = mov_avg_intensities(thorintens/np.max(thorintens), thorwaves, new_waves, thor_smooth_idx)\n",
    "    \n",
    "    if oceanfile is not None:\n",
    "        (oceanwaves, oceanintens) =  read_gt_rmn(oceanfile)\n",
    "        oceanintens = mov_avg_intensities(oceanintens/np.max(oceanintens), oceanwaves, new_waves, ocean_smooth_idx)\n",
    "\n",
    "    #create new waves by concatenating all intensities below \"min_ocean_wave\" from thorintens and above from oceanintens\n",
    "    if oceanfile is None:\n",
    "        return new_waves, thorintens\n",
    "    \n",
    "    min_ocean_idx = np.searchsorted(new_waves, min_ocean_wave)\n",
    "    new_intensities = np.concatenate((thorintens[:min_ocean_idx], oceanintens[min_ocean_idx:]))\n",
    "\n",
    "    #average around discontinuity to smooth transition\n",
    "    new_intensities[min_ocean_idx:min_ocean_idx+2] = np.mean(np.stack((thorintens[min_ocean_idx:min_ocean_idx+2], oceanintens[min_ocean_idx:min_ocean_idx+2])),axis=0)\n",
    "\n",
    "    return new_waves, new_intensities\n",
    "\n",
    "def draw_plot_marker(image, point, radius):\n",
    "    im = np.copy(image)\n",
    "    px, py = int(point[1]), int(point[0])\n",
    "\n",
    "    cv2.circle(im, (px, py), radius, (255, 255, 255), -1)\n",
    "    return im\n",
    "    \n",
    "def plot_vectors(vectors: list, model_names: list, spectral_range : tuple, colormaps=[3,0,7], legend=False):\n",
    "    \"\"\"\"\"\"\n",
    "    linestyles = [\"-\", \"--\", \"-.\", \":\", (0, (10, 3))]\n",
    "\n",
    "    # Initialize empty lists to store data'\n",
    "    n = len(model_names)\n",
    "    data, maxvals = vectors, []\n",
    "    colors = sns.husl_palette(n_colors=10, l=0.5)\n",
    "    sns.set_style(\"whitegrid\")\n",
    "    sns.set_context(\"notebook\", font_scale=1.2)\n",
    "\n",
    "    # Load data from npy files and append the specific point to the data list\n",
    "\n",
    "    wavs = np.linspace(spectral_range[0], spectral_range[1], len(data[0]))\n",
    "\n",
    "    # Plotting\n",
    "    plt.figure(dpi=100, figsize=(17,7))\n",
    "    for i, d in enumerate(data):\n",
    "        plt.plot(wavs, d / np.max(d), color=colors[colormaps[i%n]], label=model_names[i%n], linewidth=12, linestyle=linestyles[i%n])\n",
    "\n",
    "    def format_y_tick(value, pos):\n",
    "        return '{:.1e}'.format(value)\n",
    "    plt.gca().yaxis.set_major_formatter(FuncFormatter(format_y_tick))\n",
    "    plt.gca().spines[\"top\"].set_visible(False)\n",
    "    plt.gca().spines[\"right\"].set_visible(False)\n",
    "    plt.gca().spines[\"left\"].set_linewidth(4)\n",
    "    plt.gca().spines[\"bottom\"].set_linewidth(4)\n",
    "    plt.gca().spines[\"left\"].set_color(\"black\")\n",
    "    plt.gca().spines[\"bottom\"].set_color(\"black\")\n",
    "    # plt.xticks(fontsize=40)\n",
    "    # plt.yticks()\n",
    "    if legend:\n",
    "        plt.legend(fontsize=50, framealpha=1)\n",
    "    plt.show()\n"
   ]
  },
  {
   "cell_type": "markdown",
   "metadata": {},
   "source": [
    "### Color palette"
   ]
  },
  {
   "cell_type": "code",
   "execution_count": null,
   "metadata": {},
   "outputs": [],
   "source": [
    "# Interactive cell\n",
    "reference = np.load(\"/home/cfoley/defocuscamdata/recons/exp_results_figure/saved_model_ep60_testloss_0.053416458687380604_color_palette.npy\")\n",
    "white = np.maximum(0.4, np.mean(reference[291-3:291+3, 463-3:463+3, :], axis=(0,1)))\n",
    "white_balanced = reference / white\n",
    "helper.plot_cube_interactive(helper.value_norm(white_balanced), fc_range=(390,870), fc_scaling=(1.1,0.8, 0.85))"
   ]
  },
  {
   "cell_type": "code",
   "execution_count": null,
   "metadata": {},
   "outputs": [],
   "source": [
    "\n",
    "reference = np.load(\"/home/cfoley/defocuscamdata/recons/exp_results_figure/color_palette_fista_.npy\")\n",
    "white = np.maximum(0.4, np.mean(reference[291-3:291+3, 463-3:463+3, :], axis=(0,1)))\n",
    "white_balanced = reference / white\n",
    "helper.plot_cube_interactive(helper.value_norm(white_balanced), fc_range=(390,870), fc_scaling=(1.1,0.8, 0.85))"
   ]
  },
  {
   "cell_type": "code",
   "execution_count": null,
   "metadata": {},
   "outputs": [],
   "source": [
    "import tqdm\n",
    "\n",
    "\n",
    "vectors, names = [], []\n",
    "for i in tqdm.tqdm(range(1, 25)):\n",
    "    plt.figure(figsize = (8, 3))\n",
    "    if i in [20, 21, 23]:\n",
    "        continue # thorlabs data missing    \n",
    "    thor_data = f\"/home/cfoley/defocuscamdata/recons/spectrometer_gts_thorlabs_css/color_palette/{i}.csv\"\n",
    "    ocean_data = f\"/home/cfoley/defocuscamdata/recons/spectrometer_gts_ocean_optics_hr2000/color_palette/{i}.rmn\"\n",
    "    waves, intensity = combine_thor_ocean_waves(thor_data, ocean_data, 370, 890, 30)\n",
    "\n",
    "    vectors.append(intensity[:-4])\n",
    "    names.append(i)\n",
    "\n",
    "    plt.plot(waves, intensity, label=str(i))\n",
    "    plt.legend()\n",
    "    plt.show() "
   ]
  },
  {
   "cell_type": "markdown",
   "metadata": {},
   "source": [
    "### fista comparison figure"
   ]
  },
  {
   "cell_type": "code",
   "execution_count": 27,
   "metadata": {},
   "outputs": [],
   "source": [
    "point_dict = {\n",
    "    \"palette_0\": (97, 304),\n",
    "    \"palette_1\": (255,205),\n",
    "    \"palette_2\": (259,289),\n",
    "    #\"palette_2\": (184, 193), # square 8\n",
    "    \"stars_red\":(),\n",
    "    \"stars_green\":(351, 456),\n",
    "    \"stars_blue\":(247, 278),\n",
    "    \"cards_blue\": (129, 98),\n",
    "    \"cards_yellow\": (277,263),\n",
    "    \"cards_red\": (41,463),\n",
    "    \"cards_orange\": (138, 304),\n",
    "    \"cards_green\": (229, 162),\n",
    "    \"cards_bias\": (381, 41),\n",
    "    \"stars_bias\": (70, 533),\n",
    "    \"mushroom_knife_green_hackysack\":(),\n",
    "    \"mushroom_knife_mushroom_red\":(209,493),\n",
    "    \"mushroom_knife_bias\":(375,326),\n",
    "}"
   ]
  },
  {
   "cell_type": "code",
   "execution_count": null,
   "metadata": {},
   "outputs": [],
   "source": [
    "# PLOTS\n",
    "learned_recon = f\"/home/cfoley/defocuscamdata/recons/exp_results_figure/saved_model_ep60_testloss_0.053416458687380604_color_palette.npy\"\n",
    "fista_recon = f\"/home/cfoley/defocuscamdata/recons/exp_results_figure/color_palette_fista_.npy\"\n",
    "gt_squares = [3,14,8]\n",
    "\n",
    "for name, point in point_dict.items():\n",
    "    if \"palette\" not in name:\n",
    "        continue\n",
    "\n",
    "    (py, px), idx = point, int(name[-1])\n",
    "    fname = f\"color_palette/{gt_squares[idx]}\"\n",
    "\n",
    "    thor_data = f\"/home/cfoley/defocuscamdata/recons/spectrometer_gts_thorlabs_css/{fname}.csv\"\n",
    "    ocean_data = f\"/home/cfoley/defocuscamdata/recons/spectrometer_gts_ocean_optics_hr2000/{fname}.rmn\"\n",
    "\n",
    "\n",
    "    waves, intensity = combine_thor_ocean_waves(thor_data, ocean_data, 370, 890, 30)\n",
    "\n",
    "    learned_vec = np.mean(np.load(learned_recon)[py-3:py+3, px-3:px+3], axis=(0,1))[:-4]\n",
    "    fista_vec = np.mean(np.load(fista_recon)[py-3:py+3, px-3:px+3], axis=(0,1))[:-4]\n",
    "    gt_vec = intensity[:-4]\n",
    "\n",
    "    vectors = [gt_vec, helper.value_norm(learned_vec), fista_vec]\n",
    "    names = [\"Reference\", \"Learned (5)\", \"FISTA (2)\"]\n",
    "\n",
    "    plot_vectors(vectors, names, (390, 870 - 16*4))"
   ]
  },
  {
   "cell_type": "code",
   "execution_count": 21,
   "metadata": {},
   "outputs": [],
   "source": [
    "#REFERENCE IMAGE\n",
    "bias_vec = np.load(learned_recon)[400,524]\n",
    "learned_im = helper.value_norm(helper.select_and_average_bands(np.load(learned_recon) - bias_vec, fc_range=(390,870), scaling=(1.1,0.8,0.8)))*255 # (1.1,0.8,0.65)\n",
    "fista_im = helper.value_norm(helper.select_and_average_bands(np.load(fista_recon), fc_range=(390,870), scaling=(1.1,0.6,0.65)))*255\n",
    "\n",
    "for name, point in point_dict.items():\n",
    "    if \"palette\" not in name:\n",
    "        continue\n",
    "    \n",
    "    learned_im = draw_plot_marker(learned_im, point, 5)\n",
    "    fista_im = draw_plot_marker(fista_im, point, 5)"
   ]
  },
  {
   "cell_type": "code",
   "execution_count": null,
   "metadata": {},
   "outputs": [],
   "source": [
    "Image.fromarray(learned_im.astype(np.uint8))"
   ]
  },
  {
   "cell_type": "code",
   "execution_count": null,
   "metadata": {},
   "outputs": [],
   "source": [
    "Image.fromarray(fista_im.astype(np.uint8))"
   ]
  },
  {
   "cell_type": "markdown",
   "metadata": {},
   "source": [
    "### Results figure"
   ]
  },
  {
   "cell_type": "code",
   "execution_count": 24,
   "metadata": {},
   "outputs": [],
   "source": [
    "fname = \"stars/green\"\n",
    "recon_name = \"origami_stars_colorful\"\n",
    "pybias, pxbias = point_dict[\"stars_bias\"]\n",
    "py, px = point_dict['stars_green']\n",
    "\n",
    "thor_data = f\"/home/cfoley/defocuscamdata/recons/spectrometer_gts_thorlabs_css/{fname}.csv\"\n",
    "ocean_data = f\"/home/cfoley/defocuscamdata/recons/spectrometer_gts_ocean_optics_hr2000/{fname}.rmn\"\n",
    "learned_recon = f\"/home/cfoley/defocuscamdata/recons/exp_results_figure/{recon_name}.npy\"\n",
    "\n",
    "waves, intensity = combine_thor_ocean_waves(thor_data, ocean_data, 370, 890, 30)"
   ]
  },
  {
   "cell_type": "code",
   "execution_count": null,
   "metadata": {},
   "outputs": [],
   "source": [
    "v_width, b_width = 3, 5\n",
    "learned_vec = np.mean(np.load(learned_recon)[py-v_width:py+v_width, px-v_width:px+v_width], axis=(0,1))[:-4]\n",
    "bias = np.mean(np.load(learned_recon)[pybias-b_width:pybias+b_width, pxbias-b_width:pxbias+b_width],axis=(0,1))[:-4]\n",
    "learned_vec -= bias\n",
    "gt_vec = intensity[:-4]\n",
    "\n",
    "vectors = [gt_vec, helper.value_norm(learned_vec)]\n",
    "names = [\"Reference\", \"Learned (2)\"]\n",
    "\n",
    "plot_vectors(vectors, names, (390, 870 - 16*4))"
   ]
  },
  {
   "cell_type": "code",
   "execution_count": null,
   "metadata": {},
   "outputs": [],
   "source": [
    "helper.plot_cube_interactive(palette)"
   ]
  },
  {
   "cell_type": "code",
   "execution_count": null,
   "metadata": {},
   "outputs": [],
   "source": [
    "#White balance calibration using experimental color palette\n",
    "palette = np.load(\"/home/cfoley/defocuscamdata/recons/exp_results_figure/saved_model_ep60_testloss_0.053416458687380604_color_palette.npy\")\n",
    "bias_vec = np.mean(palette[400-3:400+3,524-3:524+3], axis=(0,1))\n",
    "\n",
    "plt.figure(figsize=(8,4), dpi=100)\n",
    "plt.plot(bias_vec, linewidth=6, color = \"red\")\n",
    "def format_y_tick(value, pos):\n",
    "    return '{:.1e}'.format(value)\n",
    "plt.gca().yaxis.set_major_formatter(FuncFormatter(format_y_tick))\n",
    "plt.gca().spines[\"top\"].set_visible(False)\n",
    "plt.gca().spines[\"right\"].set_visible(False)\n",
    "plt.gca().spines[\"left\"].set_linewidth(4)\n",
    "plt.gca().spines[\"bottom\"].set_linewidth(4)\n",
    "plt.gca().spines[\"left\"].set_color(\"black\")\n",
    "plt.gca().spines[\"bottom\"].set_color(\"black\")\n",
    "plt.show()\n",
    "\n",
    "palette_im = (helper.value_norm(helper.select_and_average_bands(palette - bias_vec, fc_range=(390,870), scaling=(1.1, 0.8, 0.8)))*255).astype(np.uint8)\n",
    "palette_im = Image.fromarray(palette_im)\n",
    "palette_im"
   ]
  },
  {
   "cell_type": "code",
   "execution_count": 108,
   "metadata": {},
   "outputs": [],
   "source": [
    "spectral_gt_names = [\n",
    "    \"/home/cfoley/defocuscamdata/recons/spectrometer_gts_thorlabs_css/mushroom_knife/mushroom_red.csv\",\n",
    "    \"/home/cfoley/defocuscamdata/recons/spectrometer_gts_thorlabs_css/outside/six_brownwood_sun.csv\",\n",
    "    \"/home/cfoley/defocuscamdata/recons/spectrometer_gts_thorlabs_css/outside/six_red_sun.csv\",\n",
    "    \"/home/cfoley/defocuscamdata/recons/spectrometer_gts_thorlabs_css/outside/yellowumbrella_shade.csv\"\n",
    "]\n",
    "reconstruction_files = [\n",
    "    \"/home/cfoley/defocuscamdata/recons/exp_results_figure/saved_model_ep60_testloss_0.053416458687380604_mushroom_knife.npy\",\n",
    "    \"/home/cfoley/defocuscamdata/recons/exp_results_figure/saved_model_ep60_testloss_0.053416458687380604_outside_six.npy\",\n",
    "    \"/home/cfoley/defocuscamdata/recons/exp_results_figure/saved_model_ep60_testloss_0.053416458687380604_outside_six.npy\",\n",
    "    \"/home/cfoley/defocuscamdata/recons/exp_results_figure/saved_model_ep60_testloss_0.053416458687380604_outside_eight2.npy\",\n",
    "]\n",
    "image_points = [(221, 467), (304, 281), (220, 412), (314, 448)]\n",
    "fc_scalings = [\n",
    "    (1.1, 0.7, 0.85),\n",
    "    (1.1, 0.5, 0.8),\n",
    "    (1.1, 0.5, 0.8),\n",
    "    (0.85, 0.95, 1.45),\n",
    "]"
   ]
  },
  {
   "cell_type": "code",
   "execution_count": null,
   "metadata": {},
   "outputs": [],
   "source": [
    "#Get false color images with markers\n",
    "images = []\n",
    "for i, _ in enumerate(reconstruction_files):\n",
    "    ref_fc = (helper.value_norm(helper.select_and_average_bands(np.load(reconstruction_files[i]) - bias_vec, fc_range=(390,870), scaling=fc_scalings[i]))*255).astype(np.uint8)\n",
    "    ref_fc = draw_plot_marker(ref_fc, image_points[i], 5)\n",
    "    images.append(Image.fromarray(ref_fc))\n",
    "    plt.figure(dpi=70)\n",
    "    plt.imshow(ref_fc)\n",
    "    plt.show()"
   ]
  },
  {
   "cell_type": "code",
   "execution_count": null,
   "metadata": {},
   "outputs": [],
   "source": [
    "images[0]"
   ]
  },
  {
   "cell_type": "code",
   "execution_count": null,
   "metadata": {},
   "outputs": [],
   "source": [
    "# Generate plots\n",
    "\n",
    "for i, _ in enumerate(spectral_gt_names):\n",
    "    gt_file, (py, px), (by, bx), recon_file = spectral_gt_names[i], image_points[i], bias_points[i], reconstruction_files[i]\n",
    "    \n",
    "    _, gt_vec = combine_thor_ocean_waves(gt_file, None, 370, 890, 30)\n",
    "    recon_vec = np.mean(np.load(recon_file)[py-3:py+3, px-3:px+3], axis=(0,1))\n",
    "\n",
    "    plot_vectors([gt_vec[:-4], helper.value_norm(recon_vec[:-4] - bias_vec[:-4]*0.6)], [\"Reference\", \"Learned (3)\"], (390, 870 - 16*4))"
   ]
  },
  {
   "cell_type": "markdown",
   "metadata": {},
   "source": [
    "### Intro Figure"
   ]
  },
  {
   "cell_type": "code",
   "execution_count": null,
   "metadata": {},
   "outputs": [],
   "source": [
    "ref = np.load(\"/home/cfoley/defocuscamdata/recons/exp_results_figure/saved_model_ep60_testloss_0.053416458687380604_outside_nine2.npy\")\n",
    "bias = ref[364,323]\n",
    "helper.plot_cube_interactive(ref-bias)"
   ]
  },
  {
   "cell_type": "code",
   "execution_count": null,
   "metadata": {},
   "outputs": [],
   "source": [
    "points = [(80, 53),(227,554)]\n",
    "names = [\"1.\", \"2.\"]\n",
    "vectors = []\n",
    "for (py, px) in points:\n",
    "    vectors.append(ref[py, px,:-4])\n",
    "\n",
    "plot_vectors(vectors, names, (390, 870 - 16*4), colormaps=[0,7], legend=False)"
   ]
  },
  {
   "cell_type": "code",
   "execution_count": null,
   "metadata": {},
   "outputs": [],
   "source": [
    "ref_fc = helper.value_norm(helper.select_and_average_bands(ref, fc_range=(390,870), scaling=(1,0.8,0.75)))*255\n",
    "for (py, px) in points:\n",
    "    print(py, px)\n",
    "    ref_fc = draw_plot_marker(ref_fc, (py, px), 5)\n",
    "\n",
    "Image.fromarray(ref_fc.astype(np.uint8))"
   ]
  },
  {
   "cell_type": "code",
   "execution_count": null,
   "metadata": {},
   "outputs": [],
   "source": []
  }
 ],
 "metadata": {
  "kernelspec": {
   "display_name": "torchjax_310",
   "language": "python",
   "name": "python3"
  },
  "language_info": {
   "codemirror_mode": {
    "name": "ipython",
    "version": 3
   },
   "file_extension": ".py",
   "mimetype": "text/x-python",
   "name": "python",
   "nbconvert_exporter": "python",
   "pygments_lexer": "ipython3",
   "version": "3.10.13"
  }
 },
 "nbformat": 4,
 "nbformat_minor": 2
}
