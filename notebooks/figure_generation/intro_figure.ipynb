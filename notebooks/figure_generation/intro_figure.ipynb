{
 "cells": [
  {
   "cell_type": "code",
   "execution_count": 2,
   "metadata": {},
   "outputs": [],
   "source": [
    "import sys\n",
    "sys.path.insert(0, \"../..\")\n",
    "\n",
    "import numpy as np\n",
    "import matplotlib.pyplot as plt\n",
    "import os, glob\n",
    "import torch\n",
    "\n",
    "import utils.helper_functions as helper\n",
    "import utils.diffuser_utils as diffuser_utils\n",
    "import dataset.precomp_dataset as ds\n",
    "import dataset.preprocess_data as prep_data"
   ]
  },
  {
   "cell_type": "code",
   "execution_count": null,
   "metadata": {},
   "outputs": [],
   "source": [
    "    datapath = \"/home/cfoley_waller/10tb_extension/defocam/defocuscamdata/sample_data/harvard/\"\n",
    "\n",
    "    imgs = glob.glob(os.path.join(datapath, \"CA_hsdbi/*.mat\")) + glob.glob(\n",
    "        os.path.join(datapath, \"CZ_hsdb/*.mat\")\n",
    "    )\n",
    "    with open(os.path.join(datapath, \"CZ_hsdbi/calib.txt\"), \"r\") as f:\n",
    "        calib_vals = [float(num) for num in f.readline().split(\"   \")[1:]]\n",
    "\n",
    "    for img in tqdm.tqdm(imgs, desc=\"Preprocessing Harvard Data\"):\n",
    "        sourcepath = img\n",
    "        img = io.loadmat(img)\n",
    "\n",
    "        patches = prep_data.preprocess_harvard_img(img, patch_size, calib_vals, num_channels)"
   ]
  },
  {
   "cell_type": "code",
   "execution_count": null,
   "metadata": {},
   "outputs": [],
   "source": [
    "# Raw hyperspectral dataset\n",
    "harvard_source = \"/home/cfoley_waller/10tb_extension/defocam/defocuscamdata/sample_data/harvard/CZ_hsdb\"\n",
    "imgs = \n",
    "for i, file in enumerate(glob.glob(os.path.join(harvard_source, \"*.mat\"))):\n",
    "    img = prep_data."
   ]
  }
 ],
 "metadata": {
  "kernelspec": {
   "display_name": "torchjax_310",
   "language": "python",
   "name": "python3"
  },
  "language_info": {
   "codemirror_mode": {
    "name": "ipython",
    "version": 3
   },
   "file_extension": ".py",
   "mimetype": "text/x-python",
   "name": "python",
   "nbconvert_exporter": "python",
   "pygments_lexer": "ipython3",
   "version": "3.10.13"
  }
 },
 "nbformat": 4,
 "nbformat_minor": 2
}
