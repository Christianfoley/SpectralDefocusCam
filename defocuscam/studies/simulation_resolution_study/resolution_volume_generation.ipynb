{
 "cells": [
  {
   "cell_type": "code",
   "execution_count": null,
   "metadata": {},
   "outputs": [
    {
     "name": "stdout",
     "output_type": "stream",
     "text": [
      "The autoreload extension is already loaded. To reload it, use:\n",
      "  %reload_ext autoreload\n"
     ]
    }
   ],
   "source": [
    "import sys, os, glob\n",
    "sys.path.insert(0, \"../../\")\n",
    "os.environ[\"CUDA_DEVICE_ORDER\"] = \"PCI_BUS_ID\"\n",
    "\n",
    "import matplotlib.pyplot as plt\n",
    "import utils.helper_functions as helper\n",
    "import utils.psf_utils as psf_utils\n",
    "import dataset.precomp_dataset as ds\n",
    "import train\n",
    "from torchvision import transforms\n",
    "import torch\n",
    "import numpy as np\n",
    "import scipy.io\n",
    "\n",
    "# Change this to GPU or CPU depending on your machine \n",
    "device = \"cuda:0\"\n",
    "\n",
    "%load_ext autoreload\n",
    "%autoreload 2\n",
    "\n"
   ]
  },
  {
   "cell_type": "code",
   "execution_count": null,
   "metadata": {},
   "outputs": [],
   "source": [
    "filter_path = '../../../data/calibration_data/calibration_matrix_ideal_390_870_30chan_stride16_avg16.mat'\n",
    "filter_data = scipy.io.loadmat(filter_path)\n",
    "mask = filter_data['mask'].squeeze()\n",
    "wavelengths = filter_data['waves'].squeeze()"
   ]
  },
  {
   "cell_type": "markdown",
   "metadata": {},
   "source": [
    "# Create Two Point Spatial Resolution Volumes"
   ]
  },
  {
   "cell_type": "code",
   "execution_count": null,
   "metadata": {},
   "outputs": [],
   "source": [
    "bottom_wavelength_idx = len(wavelengths)//4\n",
    "center_wavelength_idx = len(wavelengths)//2\n",
    "top_wavelength_idx = (3*len(wavelengths))//4\n",
    "\n",
    "super_pixel_size = 25\n",
    "save_dir = '../../../data/vertical_spatial_two_point_resolution_volumes'\n",
    "\n",
    "\n",
    "for i in range(0, super_pixel_size//2):\n",
    "    center_volume = np.zeros_like(mask)\n",
    "    center_volume[127,127,  center_wavelength_idx] = 1\n",
    "    center_volume[127+i,127,  center_wavelength_idx] = 1\n",
    "\n",
    "    bottom_volume = np.zeros_like(mask)\n",
    "    bottom_volume[127,127,  bottom_wavelength_idx] = 1\n",
    "    bottom_volume[127+i,127,  bottom_wavelength_idx] = 1\n",
    "\n",
    "    top_volume = np.zeros_like(mask)\n",
    "    top_volume[127,127,  top_wavelength_idx] = 1\n",
    "    top_volume[127+i,127,  top_wavelength_idx] = 1\n",
    "\n",
    "    # save the volumes\n",
    "    np.save(os.path.join(save_dir, 'wavelength_{}_position_{}.npy'.format(wavelengths[center_wavelength_idx], i)), center_volume)\n",
    "    np.save(os.path.join(save_dir, 'wavelength_{}_position_{}.npy'.format(wavelengths[bottom_wavelength_idx], i)), bottom_volume)\n",
    "    np.save(os.path.join(save_dir, 'wavelength_{}_position_{}.npy'.format(wavelengths[top_wavelength_idx], i)), top_volume)\n",
    "\n",
    "    bottom_wavelength_idx = len(wavelengths)//4\n",
    "center_wavelength_idx = len(wavelengths)//2\n",
    "top_wavelength_idx = (3*len(wavelengths))//4\n",
    "\n",
    "super_pixel_size = 25\n",
    "save_dir = '../../../data/spatial_two_point_resolution_volumes'\n",
    "\n",
    "\n",
    "for i in range(0, super_pixel_size//2):\n",
    "    center_volume = np.zeros_like(mask)\n",
    "    center_volume[127,127,  center_wavelength_idx] = 1\n",
    "    center_volume[127,127+i,  center_wavelength_idx] = 1\n",
    "\n",
    "    bottom_volume = np.zeros_like(mask)\n",
    "    bottom_volume[127,127,  bottom_wavelength_idx] = 1\n",
    "    bottom_volume[127,127+i,  bottom_wavelength_idx] = 1\n",
    "\n",
    "    top_volume = np.zeros_like(mask)\n",
    "    top_volume[127,127,  top_wavelength_idx] = 1\n",
    "    top_volume[127,127+i,  top_wavelength_idx] = 1\n",
    "\n",
    "    # save the volumes\n",
    "    np.save(os.path.join(save_dir, 'wavelength_{}_position_{}.npy'.format(wavelengths[center_wavelength_idx], i)), center_volume)\n",
    "    np.save(os.path.join(save_dir, 'wavelength_{}_position_{}.npy'.format(wavelengths[bottom_wavelength_idx], i)), bottom_volume)\n",
    "    np.save(os.path.join(save_dir, 'wavelength_{}_position_{}.npy'.format(wavelengths[top_wavelength_idx], i)), top_volume)"
   ]
  },
  {
   "cell_type": "markdown",
   "metadata": {},
   "source": [
    "# Create Two Point Spectral Resolution Volumes"
   ]
  },
  {
   "cell_type": "code",
   "execution_count": null,
   "metadata": {},
   "outputs": [
    {
     "name": "stdout",
     "output_type": "stream",
     "text": [
      "7 15 22\n"
     ]
    }
   ],
   "source": [
    "bottom_wavelength_idx = len(wavelengths)//4\n",
    "center_wavelength_idx = len(wavelengths)//2\n",
    "top_wavelength_idx = (3*len(wavelengths))//4\n",
    "\n",
    "print(bottom_wavelength_idx, center_wavelength_idx, top_wavelength_idx)\n",
    "\n",
    "save_dir = '../../../data/spectral_two_point_resolution_volumes'\n",
    "\n",
    "count = 0\n",
    "while (bottom_wavelength_idx + count < len(wavelengths)):\n",
    "    bottom_volume = np.zeros_like(mask)\n",
    "    bottom_volume[127, 127, bottom_wavelength_idx] = 1\n",
    "    bottom_volume[127, 127, bottom_wavelength_idx + count] = 1\n",
    "    np.save(os.path.join(save_dir, 'wavelength_{}_position_{}.npy'.format(wavelengths[bottom_wavelength_idx], count)), bottom_volume)\n",
    "    count += 1\n",
    "\n",
    "count = 0\n",
    "while (top_wavelength_idx + count < len(wavelengths)):\n",
    "    top_volume = np.zeros_like(mask)\n",
    "    top_volume[127, 127, top_wavelength_idx] = 1\n",
    "    top_volume[127, 127, top_wavelength_idx + count] = 1\n",
    "    np.save(os.path.join(save_dir, 'wavelength_{}_position_{}.npy'.format(wavelengths[top_wavelength_idx], count)), top_volume)\n",
    "    count += 1\n",
    "\n",
    "count = 0\n",
    "while (center_wavelength_idx + count < len(wavelengths)):\n",
    "    center_volume = np.zeros_like(mask)\n",
    "    center_volume[127, 127, center_wavelength_idx] = 1\n",
    "    center_volume[127, 127, center_wavelength_idx + count] = 1\n",
    "    np.save(os.path.join(save_dir, 'wavelength_{}_position_{}.npy'.format(wavelengths[center_wavelength_idx], count)), center_volume)\n",
    "    count += 1"
   ]
  },
  {
   "cell_type": "code",
   "execution_count": null,
   "metadata": {},
   "outputs": [],
   "source": []
  }
 ],
 "metadata": {
  "kernelspec": {
   "display_name": "InfoTheory",
   "language": "python",
   "name": "python3"
  },
  "language_info": {
   "codemirror_mode": {
    "name": "ipython",
    "version": 3
   },
   "file_extension": ".py",
   "mimetype": "text/x-python",
   "name": "python",
   "nbconvert_exporter": "python",
   "pygments_lexer": "ipython3",
   "version": "3.10.13"
  }
 },
 "nbformat": 4,
 "nbformat_minor": 2
}
