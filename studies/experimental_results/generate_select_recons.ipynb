{
 "cells": [
  {
   "cell_type": "code",
   "execution_count": null,
   "id": "3fee5e00",
   "metadata": {},
   "outputs": [],
   "source": [
    "import numpy as np, torch, scipy.io as io, os, matplotlib.pyplot as plt, h5py, PIL.Image as Image, pathlib\n",
    "import sys\n",
    "sys.path.insert(0, \"../..\")\n",
    "os.environ[\"CUDA_DEVICE_ORDER\"] = \"PCI_BUS_ID\"\n",
    "\n",
    "import utils.helper_functions as helper\n",
    "import utils.diffuser_utils as diffuser_utils\n",
    "import dataset.preprocess_data as prep_data\n",
    "import train\n",
    "\n",
    "import studies.experimental_results.experimental_predict_utils as exp_utils\n",
    "\n",
    "%load_ext autoreload\n",
    "%autoreload 2\n",
    "\n",
    "%matplotlib inline\n"
   ]
  },
  {
   "cell_type": "markdown",
   "id": "8ddbc031",
   "metadata": {},
   "source": [
    "## Notebook to reproduce experimental results figures\n",
    "\n",
    "We gather a number of compressed measurements from indoor and outdoor scenes using our experimental prototype, here we use a learned model to generate reconstructions for each of these measurements. Some of the results are selected for the paper figures, others are included as additional examples and failure modes.\n",
    "\n",
    "All image outputs are false-color projections of 3d hyperspectral volumes.\n"
   ]
  },
  {
   "cell_type": "code",
   "execution_count": null,
   "id": "a9ace35d",
   "metadata": {},
   "outputs": [],
   "source": [
    "SAMPLE_DATA_DIRPATH = os.path.join(pathlib.Path().resolve(), \"data\") # TODO: script to get this from google drive. These have some preprocessing applied already\n",
    "OUTPUTS_DIRPATH = os.path.join(pathlib.Path().resolve(), \"outputs\")\n",
    "CONFIGURATION_FILE_DIRPATH = os.path.join(pathlib.Path().resolve(), \"configs\")\n",
    "\n",
    "def plot_measurement_stack(exp_meas):\n",
    "    fig, ax = plt.subplots(1, len(exp_meas), figsize = (4*len(exp_meas), 4))\n",
    "    fig.set_dpi(180)\n",
    "    for i, meas in enumerate(exp_meas):\n",
    "        ax[i].imshow(meas, cmap='gray')\n",
    "        ax[i].set_title(f\"Focus level: {i}\")\n",
    "        ax[i].axis('off')\n",
    "    plt.show()\n",
    "\n",
    "LEARNED_MODEL_CONFIG_NAME = \"defocuscam_learned.yml\"\n",
    "os.listdir(SAMPLE_DATA_DIRPATH)"
   ]
  },
  {
   "cell_type": "code",
   "execution_count": null,
   "id": "841e193a",
   "metadata": {},
   "outputs": [],
   "source": [
    "config = helper.read_config(os.path.join(CONFIGURATION_FILE_DIRPATH, LEARNED_MODEL_CONFIG_NAME))\n",
    "model = train.get_model(config, config['device'])"
   ]
  },
  {
   "cell_type": "code",
   "execution_count": null,
   "id": "7f053a4d",
   "metadata": {},
   "outputs": [],
   "source": [
    "def reconstruct_experimental(sample_name: str, config=config, model=model):\n",
    "    \"\"\" Pick a name from above and pass it into this function to run and save a reconstruction\"\"\"\n",
    "    config_measurement_kwargs = {\n",
    "        \"image_center\": config['image_center'],\n",
    "        \"image_dims\": config['patch_crop'],\n",
    "        'patch_size': config['patch_size'],\n",
    "        'blur_levels': config['forward_model_params']['stack_depth'],\n",
    "        'blurstride': config['forward_model_params']['psf']['stride'],\n",
    "        'blur_start_idx': config['forward_model_params']['psf'].get(\"idx_offset\", 0)\n",
    "    }\n",
    "    measurements_dir = os.path.join(SAMPLE_DATA_DIRPATH, sample_name)\n",
    "    measurements = exp_utils.get_experimental_measurement_stack(\n",
    "        measurements_dir=measurements_dir,\n",
    "        **config_measurement_kwargs\n",
    "    )\n",
    "    plot_measurement_stack(measurements)\n",
    "\n",
    "    recon = exp_utils.predict_experimental(measurements, model.model2)\n",
    "    recon_path = exp_utils.save_reconstructed_measurement(\n",
    "        recon,\n",
    "        out_base_path=OUTPUTS_DIRPATH,\n",
    "        checkpoint_path=config['checkpoint_dir'],\n",
    "        measurement_path=measurements_dir,\n",
    "    )\n",
    "    recon_fc, recon_fc_path = exp_utils.save_reconstructed_fc_image(\n",
    "        recon,\n",
    "        out_base_path=OUTPUTS_DIRPATH,\n",
    "        checkpoint_path=config['checkpoint_dir'],\n",
    "        measurement_path=measurements_dir,\n",
    "    )\n",
    "    display(recon_fc)\n",
    "    return recon_path, recon_fc_path, recon_fc"
   ]
  },
  {
   "cell_type": "markdown",
   "id": "305492d9",
   "metadata": {},
   "source": [
    "### Figure measurements: indoor"
   ]
  },
  {
   "cell_type": "code",
   "execution_count": null,
   "id": "7e18cca6",
   "metadata": {},
   "outputs": [],
   "source": [
    "# Indoor scene 1: mushroom knife pin\n",
    "reconstruct_experimental(\"mushroom_knife\")"
   ]
  },
  {
   "cell_type": "code",
   "execution_count": null,
   "id": "dcc2423b",
   "metadata": {},
   "outputs": [],
   "source": [
    "# Indoor scene 2: color_palette\n",
    "reconstruct_experimental(\"color_palette\")"
   ]
  },
  {
   "cell_type": "code",
   "execution_count": null,
   "id": "807a3e9b",
   "metadata": {},
   "outputs": [],
   "source": [
    "# Indoor scene 3: USAF negative resolution target\n",
    "reconstruct_experimental(\"usaf_negative\")"
   ]
  },
  {
   "cell_type": "markdown",
   "id": "8f116566",
   "metadata": {},
   "source": [
    "### Figure measurements: outdoor scenes -- success cases\n",
    "Examples where outdoor scenes were measured successfully"
   ]
  },
  {
   "cell_type": "code",
   "execution_count": null,
   "id": "efb7762e",
   "metadata": {},
   "outputs": [],
   "source": [
    "# Outdoor scene 1: umbrella on soda hall\n",
    "reconstruct_experimental(\"outside_eight2\")"
   ]
  },
  {
   "cell_type": "code",
   "execution_count": null,
   "id": "7e782b34",
   "metadata": {},
   "outputs": [],
   "source": [
    "# Outdoor scene 2: hostel symbol\n",
    "reconstruct_experimental(\"outside_six\")"
   ]
  },
  {
   "cell_type": "code",
   "execution_count": null,
   "id": "b1256a98",
   "metadata": {},
   "outputs": [],
   "source": [
    "# Outdoor scene 3: campanile long range\n",
    "reconstruct_experimental(\"outside_nine2\")"
   ]
  },
  {
   "cell_type": "markdown",
   "id": "e15d0387",
   "metadata": {},
   "source": [
    "### Figure measurements: outdoor scenes -- failure cases\n",
    "Examples where outdoor scenes were measured, but reconstructions failed due to shaking of the camera, improper manual defocus application, or movement in the scene between measurements."
   ]
  },
  {
   "cell_type": "code",
   "execution_count": null,
   "id": "6d65f1d0",
   "metadata": {},
   "outputs": [],
   "source": [
    "LEARNED_MODEL_2_PSF_CONFIG_NAME = \"defocuscam_learned_2_psf.yml\"\n",
    "config_2_psf = helper.read_config(os.path.join(CONFIGURATION_FILE_DIRPATH, LEARNED_MODEL_2_PSF_CONFIG_NAME))\n",
    "model_2_psf = train.get_model(config, config['device'])"
   ]
  },
  {
   "cell_type": "code",
   "execution_count": null,
   "id": "0fc7a9be",
   "metadata": {},
   "outputs": [],
   "source": [
    "reconstruct_experimental(\"outside_two\", config=config_2_psf, model=model_2_psf)"
   ]
  },
  {
   "cell_type": "code",
   "execution_count": null,
   "id": "d4db72b4",
   "metadata": {},
   "outputs": [],
   "source": [
    "reconstruct_experimental(\"outside_three\", config=config_2_psf, model=model_2_psf)"
   ]
  },
  {
   "cell_type": "code",
   "execution_count": null,
   "id": "ca0e5542",
   "metadata": {},
   "outputs": [],
   "source": [
    "reconstruct_experimental(\"outside_four\", config=config_2_psf, model=model_2_psf)"
   ]
  }
 ],
 "metadata": {
  "kernelspec": {
   "display_name": "torchjax_310",
   "language": "python",
   "name": "python3"
  },
  "language_info": {
   "codemirror_mode": {
    "name": "ipython",
    "version": 3
   },
   "file_extension": ".py",
   "mimetype": "text/x-python",
   "name": "python",
   "nbconvert_exporter": "python",
   "pygments_lexer": "ipython3",
   "version": "3.10.13"
  }
 },
 "nbformat": 4,
 "nbformat_minor": 5
}
